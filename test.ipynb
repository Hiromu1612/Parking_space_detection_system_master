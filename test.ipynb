{
 "cells": [
  {
   "cell_type": "code",
   "execution_count": 2,
   "metadata": {},
   "outputs": [
    {
     "name": "stdout",
     "output_type": "stream",
     "text": [
      "zsh:1: /Users/1612h/Library/Python/3.9/bin/pip: bad interpreter: /Library/Developer/CommandLineTools/usr/bin/python3: no such file or directory\n"
     ]
    }
   ],
   "source": [
    "!pip install -r requirements.txt"
   ]
  },
  {
   "cell_type": "markdown",
   "metadata": {},
   "source": [
    "!cd /Users/1612h/Downloads/parking-space-detection-system-master/.venv/bin/python\n",
    "\n",
    "!pip install --upgrade pip"
   ]
  },
  {
   "cell_type": "markdown",
   "metadata": {},
   "source": [
    "requirements.txtのtensorflow==1.15.2をtensorflowだけにしてバージョンは最新にしてみる"
   ]
  },
  {
   "cell_type": "code",
   "execution_count": 4,
   "metadata": {},
   "outputs": [
    {
     "name": "stdout",
     "output_type": "stream",
     "text": [
      "Collecting scikit-image (from -r requirements.txt (line 1))\n",
      "  Using cached scikit-image-0.19.3.tar.gz (22.2 MB)\n",
      "  Installing build dependencies ... \u001b[?25ldone\n",
      "\u001b[?25h  Getting requirements to build wheel ... \u001b[?25ldone\n",
      "\u001b[?25h  Preparing metadata (pyproject.toml) ... \u001b[?25ldone\n",
      "\u001b[?25h\u001b[31mERROR: Ignored the following versions that require a different python version: 0.20.0 Requires-Python >=3.8; 0.20.0rc2 Requires-Python >=3.8; 0.20.0rc3 Requires-Python >=3.8; 0.20.0rc4 Requires-Python >=3.8; 0.20.0rc5 Requires-Python >=3.8; 0.20.0rc6 Requires-Python >=3.8; 0.20.0rc7 Requires-Python >=3.8; 0.20.0rc8 Requires-Python >=3.8; 0.21.0 Requires-Python >=3.8; 0.21.0rc0 Requires-Python >=3.8; 0.21.0rc1 Requires-Python >=3.8; 0.22.0 Requires-Python >=3.9; 0.22.0rc1 Requires-Python >=3.9; 0.23.0 Requires-Python >=3.10; 0.23.0rc0 Requires-Python >=3.10; 0.23.0rc2 Requires-Python >=3.10; 0.23.1 Requires-Python >=3.10; 0.23.2 Requires-Python >=3.10; 0.23.2rc1 Requires-Python >=3.10\u001b[0m\u001b[31m\n",
      "\u001b[0m\u001b[31mERROR: Could not find a version that satisfies the requirement tensorflow (from versions: none)\u001b[0m\u001b[31m\n",
      "\u001b[0m\u001b[31mERROR: No matching distribution found for tensorflow\u001b[0m\u001b[31m\n",
      "\u001b[0m"
     ]
    }
   ],
   "source": [
    "!pip install -r requirements.txt"
   ]
  },
  {
   "cell_type": "markdown",
   "metadata": {},
   "source": [
    "以下のサイトを見ると、tensorflow==1.15.2はpython 3.9.6に対応しておらず、python 2.7、3.3-3.7までしか対応していない"
   ]
  },
  {
   "cell_type": "markdown",
   "metadata": {},
   "source": [
    "https://www.tensorflow.org/install/source?hl=ja#gpu_support_2"
   ]
  },
  {
   "cell_type": "markdown",
   "metadata": {},
   "source": [
    "## Homebrewをインストール後、pyenvをインストール\n",
    "Pythonの2系と3系の切り替えや、3系の別バージョンでの切り替えなどを可能にします。"
   ]
  },
  {
   "cell_type": "code",
   "execution_count": 9,
   "metadata": {},
   "outputs": [
    {
     "name": "stdout",
     "output_type": "stream",
     "text": [
      "fatal: destination path '/Users/1612h/.pyenv' already exists and is not an empty directory.\n"
     ]
    }
   ],
   "source": [
    "!git clone https://github.com/yyuu/pyenv.git ~/.pyenv\n",
    "!echo 'export PYENV_ROOT=\"$HOME/.pyenv\"' >> ~/.bash_profile\n",
    "!echo 'export PATH=\"$PYENV_ROOT/bin:$PATH\"' >> ~/.bash_profile\n",
    "!echo 'eval \"$(pyenv init -)\"' >> ~/.bash_profile"
   ]
  },
  {
   "cell_type": "code",
   "execution_count": null,
   "metadata": {},
   "outputs": [],
   "source": [
    "!pyenv install --list"
   ]
  },
  {
   "cell_type": "markdown",
   "metadata": {},
   "source": [
    "### エラー発生"
   ]
  },
  {
   "cell_type": "markdown",
   "metadata": {},
   "source": [
    " zsh: command not found: pyenv"
   ]
  },
  {
   "cell_type": "markdown",
   "metadata": {},
   "source": [
    "vscodeのターミナルをzshではなく、bashにすれば解決"
   ]
  },
  {
   "cell_type": "markdown",
   "metadata": {},
   "source": [
    "## Python 3.7がインストールできない"
   ]
  },
  {
   "cell_type": "markdown",
   "metadata": {},
   "source": [
    "BUILD FAILED (OS X 14.5 using python-build 2.4.1-10-g2e0bb023)\n",
    "\n",
    "Inspect or clean up the working tree at /var/folders/nd/899zv4_x0794899fclq_b17c0000gn/T/python-build.20240607202605.6600\n",
    "Results logged to /var/folders/nd/899zv4_x0794899fclq_b17c0000gn/T/python-build.20240607202605.6600.log"
   ]
  },
  {
   "cell_type": "markdown",
   "metadata": {},
   "source": [
    "公式サイトから直接前のバージョンのPythonをインストールしてもできる?"
   ]
  },
  {
   "cell_type": "markdown",
   "metadata": {},
   "source": [
    "https://www.python.org/downloads/macos/"
   ]
  },
  {
   "cell_type": "markdown",
   "metadata": {},
   "source": [
    "私の場合、このサイトを参考にしてエラーが治った。python 3.7.13, 3.8.13, 3.9.11, 3.10.3 は正常にインストールできるようなので3.7.13をインストール"
   ]
  },
  {
   "cell_type": "markdown",
   "metadata": {},
   "source": [
    "https://nonakayasuo.com/python38-pyenv-error/"
   ]
  },
  {
   "cell_type": "code",
   "execution_count": null,
   "metadata": {},
   "outputs": [],
   "source": [
    "!pyenv install 3.7.13"
   ]
  },
  {
   "cell_type": "markdown",
   "metadata": {},
   "source": [
    "インストールされているバージョンを確認"
   ]
  },
  {
   "cell_type": "markdown",
   "metadata": {},
   "source": [
    "!pyenv versions"
   ]
  },
  {
   "cell_type": "markdown",
   "metadata": {},
   "source": [
    "デフォルトのバージョンを設定することができます。"
   ]
  },
  {
   "cell_type": "code",
   "execution_count": null,
   "metadata": {},
   "outputs": [],
   "source": [
    "!pyenv global 3.7.13"
   ]
  },
  {
   "cell_type": "code",
   "execution_count": null,
   "metadata": {},
   "outputs": [],
   "source": [
    "!pyenv versions "
   ]
  },
  {
   "cell_type": "markdown",
   "metadata": {},
   "source": [
    "  system\n",
    "\n",
    "* 3.7.13 (set by /Users/1612h/.pyenv/version)\n",
    "\n",
    "  3.9.4\n",
    "  \n",
    "  3.9.7"
   ]
  },
  {
   "cell_type": "markdown",
   "metadata": {},
   "source": [
    "仮想環境を生成する"
   ]
  },
  {
   "cell_type": "code",
   "execution_count": null,
   "metadata": {},
   "outputs": [],
   "source": [
    "!python -m venv .venv"
   ]
  },
  {
   "cell_type": "markdown",
   "metadata": {},
   "source": [
    "仮想環境を有効化します"
   ]
  },
  {
   "cell_type": "code",
   "execution_count": null,
   "metadata": {},
   "outputs": [],
   "source": [
    "source .venv/bin/activate"
   ]
  },
  {
   "cell_type": "markdown",
   "metadata": {},
   "source": [
    "## 結局最新のPythonにバージョンを戻すとpip install requirements.txtがうまく動作した\n",
    "pyenv install 3.12.3\n",
    "\n",
    "pyenv global 3.12.3\n",
    "\n",
    "pyenv versions\n",
    "\n",
    "source .venv/bin/activate\n",
    "\n",
    "python -m venv .venv\n",
    "\n",
    "pip install requirements.txt"
   ]
  },
  {
   "cell_type": "code",
   "execution_count": 3,
   "metadata": {},
   "outputs": [
    {
     "data": {
      "text/plain": [
       "'/Users/1612h/parking-space-detection-system-master'"
      ]
     },
     "execution_count": 3,
     "metadata": {},
     "output_type": "execute_result"
    }
   ],
   "source": [
    "pwd"
   ]
  },
  {
   "cell_type": "code",
   "execution_count": 10,
   "metadata": {},
   "outputs": [
    {
     "name": "stdout",
     "output_type": "stream",
     "text": [
      "zsh:1: command not found: python\n"
     ]
    }
   ],
   "source": [
    "!python set_regions.py Parking.mp4 "
   ]
  },
  {
   "cell_type": "markdown",
   "metadata": {},
   "source": [
    "図内の領域を四角形で囲んで選択します。\n",
    "\n",
    "* 'f'キーを押すと全画面表示になります。\n",
    "\n",
    "* 'esc'キーを押すと現在の四角形を破棄します。\n",
    "\n",
    "* 'shift'キーを押しながら動かすと、全ての頂点を動かすことができます。\n",
    "\n",
    "* 'ctrl'キーを押しながら動かすと、一つの頂点だけを動かすことができます。\n",
    "\n",
    "* 四角形をマークしたら'n'を押して現在の四角形を保存し、次に'q'を押して新しい四角形のマークを開始します。\n",
    "\n",
    "* 完了したら'b'を押してプログラムを終了します。\n",
    "\n",
    "これらの指示に従って、ビデオ内の特定の領域を選択し、その領域の情報を保存することができます。"
   ]
  },
  {
   "cell_type": "code",
   "execution_count": null,
   "metadata": {},
   "outputs": [],
   "source": [
    "!python detector.py Parking.mp4 regions.p"
   ]
  },
  {
   "cell_type": "code",
   "execution_count": null,
   "metadata": {},
   "outputs": [],
   "source": [
    "!pip install keras tensorflow mrcnn"
   ]
  },
  {
   "cell_type": "markdown",
   "metadata": {},
   "source": [
    "20-25行目を以下のように変更"
   ]
  },
  {
   "cell_type": "code",
   "execution_count": null,
   "metadata": {},
   "outputs": [],
   "source": [
    "import tensorflow as tf\n",
    "from tensorflow import keras\n",
    "from tensorflow.keras import backend as K\n",
    "from tensorflow.keras import layers as KL\n",
    "from tensorflow.keras import models as KM"
   ]
  },
  {
   "cell_type": "markdown",
   "metadata": {},
   "source": [
    "tensorflow.keras.engineはKEという名前ではなく、直接tensorflow.kerasから参照するようになりました。\n",
    "\n",
    "したがって、/Users/1612h/.pyenv/versions/3.12.3/lib/python3.12/site-packages/mrcnn/model.pyの343行目\n",
    "\n",
    "KE.LayerをKL.Layerに変更する必要があります\n",
    "\n",
    "/Users/1612h/.pyenv/versions/3.12.3/lib/python3.12/site-packages/mrcnn/model.pyの2336行目\n",
    "\n",
    "os.name is 'nt'というコードはos.name == 'nt'に変更"
   ]
  },
  {
   "cell_type": "markdown",
   "metadata": {},
   "source": [
    "## 全体の修正が必要なので諦めてTensorFlow 1.xとKerasを使用する環境を作成する"
   ]
  }
 ],
 "metadata": {
  "kernelspec": {
   "display_name": "Python 3",
   "language": "python",
   "name": "python3"
  },
  "language_info": {
   "codemirror_mode": {
    "name": "ipython",
    "version": 3
   },
   "file_extension": ".py",
   "mimetype": "text/x-python",
   "name": "python",
   "nbconvert_exporter": "python",
   "pygments_lexer": "ipython3",
   "version": "3.9.6"
  }
 },
 "nbformat": 4,
 "nbformat_minor": 2
}
